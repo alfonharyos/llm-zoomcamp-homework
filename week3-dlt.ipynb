{
 "cells": [
  {
   "cell_type": "markdown",
   "id": "2ac7db75",
   "metadata": {},
   "source": [
    "# dlt"
   ]
  },
  {
   "cell_type": "markdown",
   "id": "c8e2e89e",
   "metadata": {},
   "source": [
    "### Q1. dlt Version"
   ]
  },
  {
   "cell_type": "code",
   "execution_count": 1,
   "id": "e93a7413",
   "metadata": {},
   "outputs": [
    {
     "name": "stdout",
     "output_type": "stream",
     "text": [
      "Note: you may need to restart the kernel to use updated packages.\n"
     ]
    },
    {
     "name": "stderr",
     "output_type": "stream",
     "text": [
      "\n",
      "[notice] A new release of pip is available: 23.1.2 -> 25.2\n",
      "[notice] To update, run: python.exe -m pip install --upgrade pip\n"
     ]
    }
   ],
   "source": [
    "pip install -q \"dlt[qdrant]\" \"qdrant-client[fastembed]\""
   ]
  },
  {
   "cell_type": "code",
   "execution_count": 2,
   "id": "db3cdbd1",
   "metadata": {},
   "outputs": [
    {
     "data": {
      "text/plain": [
       "'1.15.0'"
      ]
     },
     "execution_count": 2,
     "metadata": {},
     "output_type": "execute_result"
    }
   ],
   "source": [
    "import dlt\n",
    "dlt.__version__"
   ]
  },
  {
   "cell_type": "markdown",
   "id": "0546e2a6",
   "metadata": {},
   "source": [
    "### Q2. dlt pipeline"
   ]
  },
  {
   "cell_type": "code",
   "execution_count": 6,
   "id": "c8257306",
   "metadata": {},
   "outputs": [],
   "source": [
    "# reading the FAQ data\n",
    "import requests\n",
    "\n",
    "@dlt.resource\n",
    "def zoomcamp_data():\n",
    "    docs_url = 'https://github.com/alexeygrigorev/llm-rag-workshop/raw/main/notebooks/documents.json'\n",
    "    docs_response = requests.get(docs_url)\n",
    "    documents_raw = docs_response.json()\n",
    "\n",
    "    for course in documents_raw:\n",
    "        course_name = course['course']\n",
    "\n",
    "        for doc in course['documents']:\n",
    "            doc['course'] = course_name\n",
    "            yield doc"
   ]
  },
  {
   "cell_type": "code",
   "execution_count": 7,
   "id": "d27fce46",
   "metadata": {},
   "outputs": [],
   "source": [
    "# define a destination | writing the data to Qdrant \n",
    "\n",
    "from dlt.destinations import qdrant\n",
    "\n",
    "qdrant_destination = qdrant(\n",
    "  qd_path=\"db.qdrant\", \n",
    ")"
   ]
  },
  {
   "cell_type": "code",
   "execution_count": 8,
   "id": "4e76217b",
   "metadata": {},
   "outputs": [
    {
     "name": "stdout",
     "output_type": "stream",
     "text": [
      "Run started at 2025-08-08 03:07:03.385827+00:00 and COMPLETED in 9.93 seconds with 4 steps.\n",
      "Step extract COMPLETED in 1.29 seconds.\n",
      "\n",
      "Load package 1754622424.495896 is EXTRACTED and NOT YET LOADED to the destination and contains no failed jobs\n",
      "\n",
      "Step normalize COMPLETED in 0.17 seconds.\n",
      "Normalized data for the following tables:\n",
      "- zoomcamp_data: 948 row(s)\n",
      "- _dlt_pipeline_state: 1 row(s)\n",
      "\n",
      "Load package 1754622424.495896 is NORMALIZED and NOT YET LOADED to the destination and contains no failed jobs\n",
      "\n",
      "Step load COMPLETED in 7.38 seconds.\n",
      "Pipeline zoomcamp_pipeline load step completed in 7.32 seconds\n",
      "1 load package(s) were loaded to destination qdrant and into dataset zoomcamp_tagged_data\n",
      "The qdrant destination used c:\\Users\\alfon\\Documents\\courses\\llm-zoomcamp\\hw\\week2\\db.qdrant location to store data\n",
      "Load package 1754622424.495896 is LOADED and contains no failed jobs\n",
      "\n",
      "Step run COMPLETED in 9.93 seconds.\n",
      "Pipeline zoomcamp_pipeline load step completed in 7.32 seconds\n",
      "1 load package(s) were loaded to destination qdrant and into dataset zoomcamp_tagged_data\n",
      "The qdrant destination used c:\\Users\\alfon\\Documents\\courses\\llm-zoomcamp\\hw\\week2\\db.qdrant location to store data\n",
      "Load package 1754622424.495896 is LOADED and contains no failed jobs\n"
     ]
    }
   ],
   "source": [
    "pipeline = dlt.pipeline(\n",
    "    pipeline_name=\"zoomcamp_pipeline\",\n",
    "    destination=qdrant_destination,\n",
    "    dataset_name=\"zoomcamp_tagged_data\"\n",
    "\n",
    ")\n",
    "load_info = pipeline.run(zoomcamp_data())\n",
    "print(pipeline.last_trace)"
   ]
  },
  {
   "cell_type": "markdown",
   "id": "b90f78b8",
   "metadata": {},
   "source": [
    "### Q3. Embedding model"
   ]
  },
  {
   "cell_type": "code",
   "execution_count": 10,
   "id": "faa8b2b9",
   "metadata": {},
   "outputs": [
    {
     "name": "stdout",
     "output_type": "stream",
     "text": [
      "{\n",
      "    \"aliases\": {},\n",
      "    \"collections\": {\n",
      "        \"zoomcamp_tagged_data\": {\n",
      "            \"hnsw_config\": null,\n",
      "            \"init_from\": null,\n",
      "            \"on_disk_payload\": null,\n",
      "            \"optimizers_config\": null,\n",
      "            \"quantization_config\": null,\n",
      "            \"replication_factor\": null,\n",
      "            \"shard_number\": null,\n",
      "            \"sharding_method\": null,\n",
      "            \"sparse_vectors\": null,\n",
      "            \"strict_mode_config\": null,\n",
      "            \"vectors\": {\n",
      "                \"fast-bge-small-en\": {\n",
      "                    \"datatype\": null,\n",
      "                    \"distance\": \"Cosine\",\n",
      "                    \"hnsw_config\": null,\n",
      "                    \"multivector_config\": null,\n",
      "                    \"on_disk\": null,\n",
      "                    \"quantization_config\": null,\n",
      "                    \"size\": 384\n",
      "                }\n",
      "            },\n",
      "            \"wal_config\": null,\n",
      "            \"write_consistency_factor\": null\n",
      "        },\n",
      "        \"zoomcamp_tagged_data__dlt_loads\": {\n",
      "            \"hnsw_config\": null,\n",
      "            \"init_from\": null,\n",
      "            \"on_disk_payload\": null,\n",
      "            \"optimizers_config\": null,\n",
      "            \"quantization_config\": null,\n",
      "            \"replication_factor\": null,\n",
      "            \"shard_number\": null,\n",
      "            \"sharding_method\": null,\n",
      "            \"sparse_vectors\": null,\n",
      "            \"strict_mode_config\": null,\n",
      "            \"vectors\": {\n",
      "                \"fast-bge-small-en\": {\n",
      "                    \"datatype\": null,\n",
      "                    \"distance\": \"Cosine\",\n",
      "                    \"hnsw_config\": null,\n",
      "                    \"multivector_config\": null,\n",
      "                    \"on_disk\": null,\n",
      "                    \"quantization_config\": null,\n",
      "                    \"size\": 384\n",
      "                }\n",
      "            },\n",
      "            \"wal_config\": null,\n",
      "            \"write_consistency_factor\": null\n",
      "        },\n",
      "        \"zoomcamp_tagged_data__dlt_pipeline_state\": {\n",
      "            \"hnsw_config\": null,\n",
      "            \"init_from\": null,\n",
      "            \"on_disk_payload\": null,\n",
      "            \"optimizers_config\": null,\n",
      "            \"quantization_config\": null,\n",
      "            \"replication_factor\": null,\n",
      "            \"shard_number\": null,\n",
      "            \"sharding_method\": null,\n",
      "            \"sparse_vectors\": null,\n",
      "            \"strict_mode_config\": null,\n",
      "            \"vectors\": {\n",
      "                \"fast-bge-small-en\": {\n",
      "                    \"datatype\": null,\n",
      "                    \"distance\": \"Cosine\",\n",
      "                    \"hnsw_config\": null,\n",
      "                    \"multivector_config\": null,\n",
      "                    \"on_disk\": null,\n",
      "                    \"quantization_config\": null,\n",
      "                    \"size\": 384\n",
      "                }\n",
      "            },\n",
      "            \"wal_config\": null,\n",
      "            \"write_consistency_factor\": null\n",
      "        },\n",
      "        \"zoomcamp_tagged_data__dlt_version\": {\n",
      "            \"hnsw_config\": null,\n",
      "            \"init_from\": null,\n",
      "            \"on_disk_payload\": null,\n",
      "            \"optimizers_config\": null,\n",
      "            \"quantization_config\": null,\n",
      "            \"replication_factor\": null,\n",
      "            \"shard_number\": null,\n",
      "            \"sharding_method\": null,\n",
      "            \"sparse_vectors\": null,\n",
      "            \"strict_mode_config\": null,\n",
      "            \"vectors\": {\n",
      "                \"fast-bge-small-en\": {\n",
      "                    \"datatype\": null,\n",
      "                    \"distance\": \"Cosine\",\n",
      "                    \"hnsw_config\": null,\n",
      "                    \"multivector_config\": null,\n",
      "                    \"on_disk\": null,\n",
      "                    \"quantization_config\": null,\n",
      "                    \"size\": 384\n",
      "                }\n",
      "            },\n",
      "            \"wal_config\": null,\n",
      "            \"write_consistency_factor\": null\n",
      "        },\n",
      "        \"zoomcamp_tagged_data_zoomcamp_data\": {\n",
      "            \"hnsw_config\": null,\n",
      "            \"init_from\": null,\n",
      "            \"on_disk_payload\": null,\n",
      "            \"optimizers_config\": null,\n",
      "            \"quantization_config\": null,\n",
      "            \"replication_factor\": null,\n",
      "            \"shard_number\": null,\n",
      "            \"sharding_method\": null,\n",
      "            \"sparse_vectors\": null,\n",
      "            \"strict_mode_config\": null,\n",
      "            \"vectors\": {\n",
      "                \"fast-bge-small-en\": {\n",
      "                    \"datatype\": null,\n",
      "                    \"distance\": \"Cosine\",\n",
      "                    \"hnsw_config\": null,\n",
      "                    \"multivector_config\": null,\n",
      "                    \"on_disk\": null,\n",
      "                    \"quantization_config\": null,\n",
      "                    \"size\": 384\n",
      "                }\n",
      "            },\n",
      "            \"wal_config\": null,\n",
      "            \"write_consistency_factor\": null\n",
      "        }\n",
      "    }\n",
      "}\n"
     ]
    }
   ],
   "source": [
    "import json\n",
    "\n",
    "# Read JSON file\n",
    "with open('db.qdrant\\meta.json', 'r') as f:\n",
    "    data = json.load(f)\n",
    "    data = json.dumps(data, indent=4, sort_keys=True)\n",
    "print(data)"
   ]
  }
 ],
 "metadata": {
  "kernelspec": {
   "display_name": ".venv",
   "language": "python",
   "name": "python3"
  },
  "language_info": {
   "codemirror_mode": {
    "name": "ipython",
    "version": 3
   },
   "file_extension": ".py",
   "mimetype": "text/x-python",
   "name": "python",
   "nbconvert_exporter": "python",
   "pygments_lexer": "ipython3",
   "version": "3.11.4"
  }
 },
 "nbformat": 4,
 "nbformat_minor": 5
}
